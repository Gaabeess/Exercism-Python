{
 "cells": [
  {
   "cell_type": "markdown",
   "id": "bcfac473",
   "metadata": {},
   "source": [
    "\"\"\"Functions to prevent a nuclear meltdown.\"\"\""
   ]
  },
  {
   "cell_type": "code",
   "execution_count": null,
   "id": "62701edf",
   "metadata": {},
   "outputs": [],
   "source": [
    "def is_criticality_balanced(temperature, neutrons_emitted):\n",
    "    return (temperature < 800 and neutrons_emitted > 500 and (neutrons_emitted * temperature) < 500000)"
   ]
  },
  {
   "cell_type": "markdown",
   "id": "c9842c33",
   "metadata": {},
   "source": [
    "    \"\"\"Verify criticality is balanced.\n",
    " \n",
    "    :param temperature: int or float - temperature value in kelvin.\n",
    "    :param neutrons_emitted: int or float - number of neutrons emitted per second.\n",
    "    :return: bool - is criticality balanced?\n",
    " \n",
    "    A reactor is said to be critical if it satisfies the following conditions:\n",
    "    - The temperature is less than 800 K.\n",
    "    - The number of neutrons emitted per second is greater than 500.\n",
    "    - The product of temperature and neutrons emitted per second is less than 500000.\n",
    "    \"\"\""
   ]
  },
  {
   "cell_type": "code",
   "execution_count": null,
   "id": "581ec3fa",
   "metadata": {},
   "outputs": [],
   "source": [
    "def reactor_efficiency(voltage, current, theoretical_max_power):\n",
    "\n",
    "    generated_power = voltage * current\n",
    "    percentage = (generated_power / theoretical_max_power) * 100\n",
    "    \n",
    "    if percentage >= 80:\n",
    "        return 'green'\n",
    "    elif percentage >= 60:\n",
    "        return 'orange'\n",
    "    elif percentage >= 30:\n",
    "        return 'red'\n",
    "    elif percentage < 30:\n",
    "        return 'black'"
   ]
  },
  {
   "cell_type": "markdown",
   "id": "0b56ab54",
   "metadata": {},
   "source": [
    "    \"\"\"Assess reactor efficiency zone.\n",
    " \n",
    "    :param voltage: int or float - voltage value.\n",
    "    :param current: int or float - current value.\n",
    "    :param theoretical_max_power: int or float - power that corresponds to a 100% efficiency.\n",
    "    :param generated_power: int or float - generated power value.\n",
    "    :param percentage: float - percentage effiency value.\n",
    "    :return: str - one of ('green', 'orange', 'red', or 'black').\n",
    " \n",
    "    Efficiency can be grouped into 4 bands:\n",
    " \n",
    "    1. green -> efficiency of 80% or more,\n",
    "    2. orange -> efficiency of less than 80% but at least 60%,\n",
    "    3. red -> efficiency below 60%, but still 30% or more,\n",
    "    4. black ->  less than 30% efficient.\n",
    "    \"\"\""
   ]
  },
  {
   "cell_type": "code",
   "execution_count": null,
   "id": "8230ab43",
   "metadata": {},
   "outputs": [],
   "source": [
    "def fail_safe(temperature, neutrons_produced_per_second, threshold):\n",
    "    value = temperature * neutrons_produced_per_second\n",
    "    if value < threshold * 0.9:\n",
    "        return 'LOW'\n",
    "    elif threshold * 0.9 <= value <= threshold * 1.1:\n",
    "        return 'NORMAL'\n",
    "    else:\n",
    "        return 'DANGER'"
   ]
  },
  {
   "cell_type": "markdown",
   "id": "753db695",
   "metadata": {},
   "source": [
    "    \"\"\"Assess and return status code for the reactor.\n",
    " \n",
    "    :param temperature: int or float - value of the temperature in kelvin.\n",
    "    :param neutrons_produced_per_second: int or float - neutron flux.\n",
    "    :param threshold: int or float - threshold for category.\n",
    "    :param value: int or float - product of temperature and neutrons_produced_per_second\n",
    "    :return: str - one of ('LOW', 'NORMAL', 'DANGER').\n",
    " \n",
    "    1. 'LOW' -> `temperature * neutrons per second` < 90% of `threshold`\n",
    "    2. 'NORMAL' -> `temperature * neutrons per second` +/- 10% of `threshold`\n",
    "    3. 'DANGER' -> `temperature * neutrons per second` is not in the above-stated ranges\n",
    "    \"\"\""
   ]
  }
 ],
 "metadata": {
  "language_info": {
   "name": "python"
  }
 },
 "nbformat": 4,
 "nbformat_minor": 5
}
