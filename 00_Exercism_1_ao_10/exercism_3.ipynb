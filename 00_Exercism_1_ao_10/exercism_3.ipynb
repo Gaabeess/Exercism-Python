{
 "cells": [
  {
   "cell_type": "markdown",
   "id": "2b309799",
   "metadata": {},
   "source": [
    "## Functions for implementing the rules of the classic arcade game Pac-Man."
   ]
  },
  {
   "cell_type": "code",
   "execution_count": null,
   "id": "6c24bd1a",
   "metadata": {},
   "outputs": [],
   "source": [
    "def eat_ghost(power_pellet_active, touching_ghost):\n",
    "    can_eat = power_pellet_active and touching_ghost\n",
    "    return can_eat   "
   ]
  },
  {
   "cell_type": "markdown",
   "id": "8cbf2844",
   "metadata": {},
   "source": [
    "- Verify that Pac-Man can eat a ghost if he is empowered by a power pellet.\n",
    "\n",
    "    :param power_pellet_active: bool - does the player have an active power pellet?\n",
    "    :param touching_ghost: bool - is the player touching a ghost?\n",
    "    :para,: can_eat: bool - if the player has power pellet and touch a ghost, the player can eat the ghost\n",
    "    :return: can_eat: bool - can a ghost be eaten?"
   ]
  },
  {
   "cell_type": "code",
   "execution_count": null,
   "id": "11ae6b92",
   "metadata": {},
   "outputs": [],
   "source": [
    "def score(touching_power_pellet, touching_dot):\n",
    "    scored = touching_power_pellet or touching_dot\n",
    "    return scored"
   ]
  },
  {
   "cell_type": "markdown",
   "id": "59dc7827",
   "metadata": {},
   "source": [
    "- Verify that Pac-Man has scored when a po15wer pellet or dot has been eaten.\n",
    "\n",
    "    :param touching_power_pellet: bool - is the player touching a power pellet?\n",
    "    :param touching_dot: bool - is the player touching a dot?\n",
    "    :param scored: bool - if player touch power pallet or touch a dot Scored!\n",
    "    :return: scored:bool - has the player scored or not?"
   ]
  },
  {
   "cell_type": "code",
   "execution_count": null,
   "id": "89a60d8f",
   "metadata": {},
   "outputs": [],
   "source": [
    "def lose(power_pellet_active, touching_ghost):\n",
    "    loses = touching_ghost and not power_pellet_active\n",
    "    return loses"
   ]
  },
  {
   "cell_type": "markdown",
   "id": "e80a3ebd",
   "metadata": {},
   "source": [
    "- Trigger the game loop to end (GAME OVER) when Pac-Man touches a ghost without his power pellet.\n",
    "\n",
    "    :param power_pellet_active: bool - does the player have an active power pellet?\n",
    "    :param touching_ghost: bool - is the player touching a ghost?\n",
    "    :param loses: bool - tell if the player has lost the game\n",
    "    :return: loses: bool - has the player lost the game?"
   ]
  },
  {
   "cell_type": "code",
   "execution_count": null,
   "id": "ea793781",
   "metadata": {},
   "outputs": [],
   "source": [
    "def win(has_eaten_all_dots, power_pellet_active, touching_ghost):\n",
    "    not_lost = not touching_ghost or power_pellet_active\n",
    "    return has_eaten_all_dots and not_lost"
   ]
  },
  {
   "cell_type": "markdown",
   "id": "e33f1228",
   "metadata": {},
   "source": [
    "- Trigger the victory event when all dots have been eaten.\n",
    "\n",
    "    :param has_eaten_all_dots: bool - has the player \"eaten\" all the dots?\n",
    "    :param power_pellet_active: bool - does the player have an active power pellet?\n",
    "    :param touching_ghost: bool - is the player touching a ghost?\n",
    "    :param not_lost: bool - the player not lost the game\n",
    "    :return: bool - has the player won the g git config --global user.name "Gabriel"
caem@salsicha:~/Downloads/Exerciame?"
   ]
  }
 ],
 "metadata": {
  "language_info": {
   "name": "python"
  }
 },
 "nbformat": 4,
 "nbformat_minor": 5
}
