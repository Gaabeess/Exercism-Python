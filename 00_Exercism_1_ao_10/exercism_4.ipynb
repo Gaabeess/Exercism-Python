{
 "cells": [
  {
   "cell_type": "markdown",
   "id": "cc6b7373",
   "metadata": {},
   "source": [
    "# Functions for calculating steps in exchanging currency.\n"
   ]
  },
  {
   "cell_type": "code",
   "execution_count": 5,
   "id": "59ffa4f4",
   "metadata": {},
   "outputs": [],
   "source": [
    "def exchange_money(budget, exchange_rate):\n",
    "    \n",
    "    return budget / exchange_rate"
   ]
  },
  {
   "cell_type": "markdown",
   "id": "aa1c6780",
   "metadata": {},
   "source": [
    "- \"\"\" Function to estimate value after exchange\n",
    "\n",
    "   :param budget: float - amount of money you are planning to exchange.\n",
    "   :param exchange_rate: float - unit value of the foreign currency.\n",
    "   :return: float - exchanged value of the foreign currency you can receive.\n",
    "\n",
    "   This function will return the value of the exchanged currency.\n",
    "   \"\"\""
   ]
  },
  {
   "cell_type": "code",
   "execution_count": null,
   "id": "65526001",
   "metadata": {},
   "outputs": [],
   "source": [
    "def get_change(budget, exchanging_value):\n",
    "    \n",
    "    return budget - exchanging_value"
   ]
  },
  {
   "cell_type": "markdown",
   "id": "c01e84c8",
   "metadata": {},
   "source": [
    "-   \"\"\" Function to calculate currency left after an exchange\n",
    "\n",
    "    :param budget: float - amount of money you own.\n",
    "    :param exchanging_value: float - amount of your money you want to exchange now.\n",
    "    :return: float - amount left of your starting currency after exchanging.\n",
    "    \"\"\""
   ]
  },
  {
   "cell_type": "code",
   "execution_count": null,
   "id": "ec172224",
   "metadata": {},
   "outputs": [],
   "source": [
    "def get_value_of_bills(denomination, number_of_bills):\n",
    "\n",
    "    return denomination * number_of_bills"
   ]
  },
  {
   "cell_type": "markdown",
   "id": "8bd56a78",
   "metadata": {},
   "source": [
    "-   \"\"\" Function to Calculate value of bills\n",
    "\n",
    "    :param denomination: int - the value of a bill.\n",
    "    :param number_of_bills: int - total number of bills.\n",
    "    :return: int - calculated value of the bills.\n",
    "    \n",
    "    \"\"\""
   ]
  },
  {
   "cell_type": "code",
   "execution_count": null,
   "id": "cae2fe89",
   "metadata": {},
   "outputs": [],
   "source": [
    "def get_number_of_bills(amount, denomination):\n",
    "        \n",
    "        return amount // denomination"
   ]
  },
  {
   "cell_type": "markdown",
   "id": "36358104",
   "metadata": {},
   "source": [
    "- \"\"\" Function to number of bills\n",
    "\n",
    "    :param amount: float - the total starting value.\n",
    "    :param denomination: int - the value of a single bill.\n",
    "    :return: int - number of bills that can be obtained from the amount.\n",
    "    \"\"\""
   ]
  },
  {
   "cell_type": "code",
   "execution_count": null,
   "id": "5e935f35",
   "metadata": {},
   "outputs": [],
   "source": [
    "def get_leftover_of_bills(amount, denomination):\n",
    "    \n",
    "    return amount % denomination"
   ]
  },
  {
   "cell_type": "markdown",
   "id": "3cc2c3b1",
   "metadata": {},
   "source": [
    "-   \"\"\" Fucntion to Calculate leftover after exchanging into bills\n",
    "\n",
    "    :param amount: float - the total starting value.\n",
    "    :param denomination: int - the value of a single bill.\n",
    "    :return: float - the amount that is \"leftover\", given the current denomination.\n",
    "    \"\"\""
   ]
  },
  {
   "cell_type": "code",
   "execution_count": null,
   "id": "ca7a279c",
   "metadata": {},
   "outputs": [],
   "source": [
    "def exchangeable_value(budget, exchange_rate, spread, denomination):\n",
    "    \n",
    "    exchange_rate_fee = ((spread/100) * exchange_rate) + exchange_rate\n",
    "    budget_after_exchange = exchange_money(budget, exchange_rate_fee)\n",
    "    amount = get_number_of_bills(budget_after_exchange, denomination)\n",
    "\n",
    "    return amount * denomination"
   ]
  },
  {
   "cell_type": "markdown",
   "id": "1a94d54d",
   "metadata": {},
   "source": [
    "-   \"\"\" Function to calculate value after exchange with fee\n",
    "\n",
    "    :param budget: float - the amount of your money you are planning to exchange.\n",
    "    :param exchange_rate: float - the unit value of the foreign currency.\n",
    "    :param spread: int - percentage that is taken as an exchange fee.\n",
    "    :param exchange_rate_fee: float - the value of exchange rate plus the fee (spread)\n",
    "    :param denomination: int - the value of a single bill.\n",
    "    :param budget_after_exchange: float - exchanged value of the foreign currency you can receive.\n",
    "    :param amount: int - number of bills that can be obtained from the amount.\n",
    "    :return: int - maximum value you can get.\n",
    "    \"\"\""
   ]
  }
 ],
 "metadata": {
  "kernelspec": {
   "display_name": "Python 3",
   "language": "python",
   "name": "python3"
  },
  "language_info": {
   "codemirror_mode": {
    "name": "ipython",
    "version": 3
   },
   "file_extension": ".py",
   "mimetype": "text/x-python",
   "name": "python",
   "nbconvert_exporter": "python",
   "pygments_lexer": "ipython3",
   "version": "3.13.6"
  }
 },
 "nbformat": 4,
 "nbformat_minor": 5
}
