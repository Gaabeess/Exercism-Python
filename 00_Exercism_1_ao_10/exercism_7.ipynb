{
 "cells": [
  {
   "cell_type": "markdown",
   "id": "c1e78fb9",
   "metadata": {},
   "source": [
    "\"\"\"Functions for creating, transforming, and adding prefixes to strings.\"\"\""
   ]
  },
  {
   "cell_type": "code",
   "execution_count": null,
   "id": "15d5ceeb",
   "metadata": {},
   "outputs": [],
   "source": [
    "def add_prefix_un(word):\n",
    "   return 'un' + word"
   ]
  },
  {
   "cell_type": "markdown",
   "id": "17385dc7",
   "metadata": {},
   "source": [
    "  \"\"\"Take the given word and add the 'un' prefix.\n",
    "\n",
    "    :param word: str - containing the root word.\n",
    "    :return: str - of root word prepended with 'un'.\n",
    "    \"\"\""
   ]
  },
  {
   "cell_type": "code",
   "execution_count": null,
   "id": "7854c3c6",
   "metadata": {},
   "outputs": [],
   "source": [
    "def make_word_groups(vocab_words):\n",
    "    prefix = vocab_words[0]\n",
    "    words_with_prefix = [prefix + word for word in vocab_words[1:]]\n",
    "    return ' :: '.join([prefix] + words_with_prefix)"
   ]
  },
  {
   "cell_type": "markdown",
   "id": "5db3b898",
   "metadata": {},
   "source": [
    "    \"\"\"Transform a list containing a prefix and words into a string with the prefix followed by the words with prefix prepended.\n",
    "\n",
    "    :param vocab_words: list - of vocabulary words with prefix in first index.\n",
    "    :return: str - of prefix followed by vocabulary words with\n",
    "            prefix applied.\n",
    "\n",
    "    This function takes a `vocab_words` list and returns a string\n",
    "    with the prefix and the words with prefix applied, separated\n",
    "     by ' :: '.\n",
    "\n",
    "    For example: list('en', 'close', 'joy', 'lighten'),\n",
    "    produces the following string: 'en :: enclose :: enjoy :: enlighten'.\n",
    "    \"\"\""
   ]
  },
  {
   "cell_type": "code",
   "execution_count": null,
   "id": "85708e51",
   "metadata": {},
   "outputs": [],
   "source": [
    "def remove_suffix_ness(word):    \n",
    "    if word.endswith(\"iness\"):\n",
    "        base = word[:-5] + \"y\"\n",
    "        if base.endswith(\"i\"):\n",
    "            return base[:-1] + \"y\"\n",
    "        return base\n",
    "    return word[:-4] if word.endswith(\"ness\") else word"
   ]
  },
  {
   "cell_type": "markdown",
   "id": "b96df008",
   "metadata": {},
   "source": [
    "   \"\"\"Remove the suffix from the word while keeping spelling in mind.\n",
    "\n",
    "    :param word: str - of word to remove suffix from.\n",
    "    :return: str - of word with suffix removed & spelling adjusted.\n",
    "\n",
    "    For example: \"heaviness\" becomes \"heavy\", but \"sadness\" becomes \"sad\".\n",
    "    \"\"\""
   ]
  },
  {
   "cell_type": "code",
   "execution_count": null,
   "id": "88385418",
   "metadata": {},
   "outputs": [],
   "source": [
    "def adjective_to_verb(sentence, index):\n",
    "\n",
    "    words = sentence.split()\n",
    "    adjective = words[index].rstrip('.')\n",
    "    return adjective + 'en'"
   ]
  },
  {
   "cell_type": "markdown",
   "id": "7e0af3b3",
   "metadata": {},
   "source": [
    "    \"\"\"Change the adjective within the sentence to a verb.\n",
    "\n",
    "    :param sentence: str - that uses the word in sentence.\n",
    "    :param index: int - index of the word to remove and transform.\n",
    "    :return: str - word that changes the extracted adjective to a verb.\n",
    "\n",
    "    For example, (\"It got dark as the sun set.\", 2) becomes \"darken\".\n",
    "    \"\"\""
   ]
  }
 ],
 "metadata": {
  "language_info": {
   "name": "python"
  }
 },
 "nbformat": 4,
 "nbformat_minor": 5
}
