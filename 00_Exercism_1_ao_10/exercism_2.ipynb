{
 "cells": [
  {
   "cell_type": "markdown",
   "id": "8cf8948d",
   "metadata": {},
   "source": [
    "# This Program will calculate the preparing and cooking time for lasagna\n"
   ]
  },
  {
   "cell_type": "code",
   "execution_count": null,
   "id": "98561bbe",
   "metadata": {},
   "outputs": [],
   "source": [
    "EXPECTED_BAKE_TIME = 40"
   ]
  },
  {
   "cell_type": "markdown",
   "id": "5e866afa",
   "metadata": {},
   "source": [
    "- int - the total time of lasagna in the oven"
   ]
  },
  {
   "cell_type": "code",
   "execution_count": null,
   "id": "be5a8468",
   "metadata": {},
   "outputs": [],
   "source": [
    "def bake_time_remaining(elapsed_bake_minutes):\n",
    "    return EXPECTED_BAKE_TIME - elapsed_bake_minutes"
   ]
  },
  {
   "cell_type": "markdown",
   "id": "2614b8ab",
   "metadata": {},
   "source": [
    "- Calculate the bake time remaining.\n",
    "\n",
    "    :param elapsed_bake_time: int - baking time already elapsed.\n",
    "    :return: int - remaining bake time (in minutes) derived from 'EXPECTED_BAKE_TIME'.\n",
    "\n",
    "    Function that takes the actual minutes the lasagna has been in the oven as\n",
    "    an argument and returns how many minutes the lasagna still needs to bake\n",
    "    based on the `EXPECTED_BAKE_TIME`.\n"
   ]
  },
  {
   "cell_type": "code",
   "execution_count": null,
   "id": "80ce72c5",
   "metadata": {},
   "outputs": [],
   "source": [
    "def preparation_time_in_minutes(number_of_layers):\n",
    "    return number_of_layers*2"
   ]
  },
  {
   "cell_type": "markdown",
   "id": "108067ec",
   "metadata": {},
   "source": [
    "- Calculate the preparation time.\n",
    "\n",
    "    :param number_of_layers: int the number of lasagna layers made  \n",
    "    :return: int amount of prep time (in minutes), based on 2 minutes per layer added.  \n",
    "\n",
    "    This function takes an integer representing the number of layers added to the dish,\n"
    "    calculating preparation time using a time of 2 minutes per layer added."
   ]
  },
  {
   "cell_type": "code",
   "execution_count": null,
   "id": "fbe7308e",
   "metadata": {},
   "outputs": [],
   "source": [
    "def elapsed_time_in_minutes(number_of_layers, elapsed_bake_time):\n",
    "    return preparation_time_in_minutes(number_of_layers)+ elapsed_bake_time"
   ]
  },
  {
   "cell_type": "markdown",
   "id": "c8eb842f",
   "metadata": {},
   "source": [
    "- Calculate the elapsed cooking time.\n",
    "\n",
    "    :param number_of_layers: int - the number of layers in the lasagna.\n",
    "    :param elapsed_bake_time: int - elapsed cooking time.\n",
    "    :return: int - total time elapsed (in minutes) preparing and cooking.\n",
    "\n",
    "    This function takes two integers representing the number of lasagna layers and the\n",
    "    time already spent baking and calculates the total elapsed minutes spent cooking the\n",
    "    lasagna."
   ]
  }
 ],
 "metadata": {
  "kernelspec": {
   "display_name": ".venv",
   "language": "python",
   "name": "python3"
  },
  "language_info": {
   "name": "python",
   "version": "3.11.2"
  }
 },
 "nbformat": 4,
 "nbformat_minor": 5
}
