{
 "cells": [
  {
   "cell_type": "markdown",
   "id": "5ccb8328",
   "metadata": {},
   "source": [
    "# Functions to help play and score a game of blackjack."
   ]
  },
  {
   "cell_type": "code",
   "execution_count": null,
   "id": "36d316bf",
   "metadata": {},
   "outputs": [],
   "source": [
    "def value_of_card(card):\n",
    "\n",
    "    if card in ['J', 'Q', 'K']:\n",
    "        return 10\n",
    "\n",
    "    elif card == 'A':\n",
    "        return 1\n",
    "\n",
    "    elif card.isdigit() and 2 <= int(card) <= 10:\n",
    "        return int(card)"
   ]
  },
  {
   "cell_type": "markdown",
   "id": "0edc2904",
   "metadata": {},
   "source": [
    "  \n",
    "    \"\"\"Determine the scoring value of a card.\n",
    "    :param card: str - given card.\n",
    "    :return: int - value of a given card.  See below for values.\n",
    "\n",
    "    1.  'J', 'Q', or 'K' (otherwise known as \"face cards\") = 10\n",
    "    2.  'A' (ace card) = 1\n",
    "    3.  '2' - '10' = numerical value.\n",
    "    \"\"\"\n"
   ]
  },
  {
   "cell_type": "code",
   "execution_count": null,
   "id": "9980badb",
   "metadata": {},
   "outputs": [],
   "source": [
    "def higher_card(card_one, card_two):\n",
    "\n",
    "\n",
    "    if value_of_card(card_one) > value_of_card(card_two):\n",
    "        return card_one\n",
    "\n",
    "    elif value_of_card(card_one) == value_of_card(card_two):\n",
    "        return card_one, card_two\n",
    "\n",
    "    else :\n",
    "        return card_two"
   ]
  },
  {
   "cell_type": "markdown",
   "id": "9dd03172",
   "metadata": {},
   "source": [
    "    \"\"\"Determine which card has a higher value in the hand.\n",
    "    :param card_one, card_two: str - cards dealt in hand.  See below for values.\n",
    "    :return: str or tuple - resulting Tuple contains both cards if they are of equal value.\n",
    "\n",
    "    1.  'J', 'Q', or 'K' (otherwise known as \"face cards\") = 10\n",
    "    2.  'A' (ace card) = 1\n",
    "    3.  '2' - '10' = numerical value.\n",
    "    \"\"\""
   ]
  },
  {
   "cell_type": "code",
   "execution_count": null,
   "id": "542a5e44",
   "metadata": {},
   "outputs": [],
   "source": [
    "def value_of_ace(card_one, card_two):\n",
    "\n",
    "    total = value_of_card(card_one) + value_of_card(card_two)\n",
    "\n",
    "    if total == 11 and card_one == 'A':\n",
    "        return 1\n",
    "\n",
    "    elif total == 11 and card_two == 'A':\n",
    "        return 1\n",
    " \n",
    "\n",
    "    elif 12 <= total <= 20:\n",
    "        return 1\n",
    "\n",
    "    elif card_one == 'A' or card_two == 'A':\n",
    "\n",
    "        if value_of_card(card_one) + value_of_card(card_two) > 10:\n",
    "            return 11\n",
    "\n",
    "        else:\n",
    "            return 1\n",
    "\n",
    "    else :\n",
    "        return 11"
   ]
  },
  {
   "cell_type": "markdown",
   "id": "c365cc3e",
   "metadata": {},
   "source": [
    "    \"\"\"Calculate the most advantageous value for the ace card.\n",
    "\n",
    "    :param card_one, card_two: str - card dealt. See below for values.\n",
    "    :return: int - either 1 or 11 value of the upcoming ace card.\n",
    "\n",
    "    1.  'J', 'Q', or 'K' (otherwise known as \"face cards\") = 10\n",
    "    2.  'A' (ace card) = 11 (if already in hand)\n",
    "    3.  '2' - '10' = numerical value.\n",
    "    \"\"\""
   ]
  },
  {
   "cell_type": "code",
   "execution_count": null,
   "id": "c47d38cc",
   "metadata": {},
   "outputs": [],
   "source": [
    "def is_blackjack(card_one, card_two):\n",
    "\n",
    "    blackjack = 0\n",
    "\n",
    "    def winner(a):\n",
    "\n",
    "        if a == 21:\n",
    "            return True\n",
    "        else:\n",
    "            return False\n",
    "\n",
    "    if card_one == 'A':\n",
    "\n",
    "        card_one = value_of_ace(card_one, card_two) + 10\n",
    "\n",
    "        blackjack = value_of_card(card_two) + card_one\n",
    "\n",
    "        return winner(blackjack)\n",
    "\n",
    "    elif card_two == 'A':\n",
    "\n",
    "        card_two = value_of_ace(card_one, card_two) + 10\n",
    "\n",
    "        blackjack = value_of_card(card_one) + card_two\n",
    "\n",
    "        return winner(blackjack)\n",
    "\n",
    "    else:\n",
    "\n",
    "        blackjack = value_of_card(card_one) + value_of_card(card_two)\n",
    "\n",
    "        return winner(blackjack)"
   ]
  },
  {
   "cell_type": "markdown",
   "id": "773129c0",
   "metadata": {},
   "source": [
    "    \"\"\"Determine if the hand is a 'natural' or 'blackjack'.\n",
    "\n",
    "    :param: card_one, card_two: str - card dealt. See below for values.\n",
    "    :\n",
    "    :return: bool - is the hand is a blackjack (two cards worth 21).\n",
    "\n",
    "    1.  'J', 'Q', or 'K' (otherwise known as \"face cards\") = 10\n",
    "    2.  'A' (ace card) = 11 (if already in hand)\n",
    "    3.  '2' - '10' = numerical value.\n",
    "    \"\"\""
   ]
  },
  {
   "cell_type": "code",
   "execution_count": null,
   "id": "394774e0",
   "metadata": {},
   "outputs": [],
   "source": [
    "def can_split_pairs(card_one, card_two):\n",
    "\n",
    "    if value_of_card(card_one) == value_of_card(card_two):\n",
    "\n",
    "        return True\n",
    "\n",
    "    else:\n",
    "\n",
    "        return False"
   ]
  },
  {
   "cell_type": "markdown",
   "id": "8296e0fd",
   "metadata": {},
   "source": [
    "\n",
    "    \"\"\"Determine if a player can split their hand into two hands.\n",
    "\n",
    "    :param card_one, card_two: str - cards dealt.\n",
    "    :return: bool - can the hand be split into two pairs? (i.e. cards are of the same value).\n",
    "    \"\"\""
   ]
  },
  {
   "cell_type": "code",
   "execution_count": null,
   "id": "7ebe20fc",
   "metadata": {},
   "outputs": [],
   "source": [
    "def can_double_down(card_one, card_two):\n",
    "\n",
    "    double = [9, 10, 11]\n",
    "\n",
    "    hand = value_of_card(card_one) + value_of_card(card_two)\n",
    "\n",
    "    if hand in double:\n",
    "\n",
    "        return True\n",
    "\n",
    "    else:\n",
    "\n",
    "        return False"
   ]
  },
  {
   "cell_type": "markdown",
   "id": "f1f061e1",
   "metadata": {},
   "source": [
    "    \"\"\"Determine if a blackjack player can place a double down bet.\n",
    "\n",
    "    :param card_one, card_two: str - first and second cards in hand.\n",
    "    :return: bool - can the hand can be doubled down? (i.e. totals 9, 10 or 11 points).\n",
    "    \"\"\""
   ]
  }
 ],
 "metadata": {
  "language_info": {
   "name": "python"
  }
 },
 "nbformat": 4,
 "nbformat_minor": 5
}
