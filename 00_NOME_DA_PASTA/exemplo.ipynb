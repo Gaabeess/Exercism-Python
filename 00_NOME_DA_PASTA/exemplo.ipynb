{
 "cells": [
  {
   "cell_type": "markdown",
   "id": "f023de49",
   "metadata": {},
   "source": [
    "# EXEMPLO DE COMO FUNCIONA"
   ]
  },
  {
   "cell_type": "code",
   "execution_count": 1,
   "id": "74ba9567",
   "metadata": {},
   "outputs": [],
   "source": [
    "def soma(a, b):\n",
    "    return a +b"
   ]
  },
  {
   "cell_type": "code",
   "execution_count": 2,
   "id": "6ecf00a7",
   "metadata": {},
   "outputs": [
    {
     "name": "stdout",
     "output_type": "stream",
     "text": [
      "9\n"
     ]
    }
   ],
   "source": [
    "print(soma(5,4))"
   ]
  },
  {
   "cell_type": "markdown",
   "id": "3248eedb",
   "metadata": {},
   "source": [
    "Este programa faz uma soma de dois números"
   ]
  }
 ],
 "metadata": {
  "kernelspec": {
   "display_name": ".venv",
   "language": "python",
   "name": "python3"
  },
  "language_info": {
   "codemirror_mode": {
    "name": "ipython",
    "version": 3
   },
   "file_extension": ".py",
   "mimetype": "text/x-python",
   "name": "python",
   "nbconvert_exporter": "python",
   "pygments_lexer": "ipython3",
   "version": "3.11.2"
  }
 },
 "nbformat": 4,
 "nbformat_minor": 5
}
